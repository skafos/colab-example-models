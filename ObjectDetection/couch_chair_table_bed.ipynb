{
  "nbformat": 4,
  "nbformat_minor": 0,
  "metadata": {
    "colab": {
      "name": "couch_chair_table_bed.ipynb",
      "version": "0.3.2",
      "provenance": [],
      "collapsed_sections": [],
      "toc_visible": true
    },
    "kernelspec": {
      "name": "python3",
      "display_name": "Python 3"
    },
    "accelerator": "GPU"
  },
  "cells": [
    {
      "cell_type": "markdown",
      "metadata": {
        "colab_type": "text",
        "id": "StKdqK2ODGge"
      },
      "source": [
        "# Object Detection: Furniture - Couches, Chairs, Tables and Beds\n",
        "Below we will do the following:\n",
        "1. Setup the training environment.\n",
        "2. Load images of couches, chairs, tables and beds and their corresponding bounding boxes.\n",
        "2. Build an object detection model for identifying the location of couches, chairs, tables and beds in images.\n",
        "3. Convert the model to CoreML and upload it to Skafos.\n",
        "\n",
        "The example is based on [Turi Create's Object Detection model](https://github.com/apple/turicreate/tree/master/userguide/object_detection)."
      ]
    },
    {
      "cell_type": "markdown",
      "metadata": {
        "colab_type": "text",
        "id": "st-frgzfDR1y"
      },
      "source": [
        "## Environment Setup\n",
        "Below we:\n",
        "- Remove existing cuda versions and install cuda 9.1 \n",
        "- Install TuriCreate 5.2 and some specific dependencies to get GPU training capabilities.\n",
        "- Upgrade numpy for exporting to CoreML\n",
        "- Install Skafos Python SDK"
      ]
    },
    {
      "cell_type": "code",
      "metadata": {
        "colab_type": "code",
        "id": "JTNWJwAMC-OP",
        "colab": {}
      },
      "source": [
        "# we use /dev/null to suppress much of the output and 2>&1 to suppress errors\n",
        "!rm -rf /usr/local/cuda* >/dev/null\n",
        "\n",
        "# fetch cuda 9.1 from nvidia and install it\n",
        "!wget https://developer.nvidia.com/compute/cuda/9.1/Prod/local_installers/cuda-repo-ubuntu1604-9-1-local_9.1.85-1_amd64 >/dev/null\n",
        "!sudo dpkg -i cuda-repo-ubuntu1604-9-1-local_9.1.85-1_amd64 >/dev/null 2>&1\n",
        "!sudo apt-key add /var/cuda-repo-9-1-local/7fa2af80.pub \n",
        "!sudo apt-get update >/dev/null 2>&1\n",
        "!sudo apt-get install cuda-9.1 >/dev/null 2>&1\n",
        "\n",
        "!nvcc --version"
      ],
      "execution_count": 0,
      "outputs": []
    },
    {
      "cell_type": "code",
      "metadata": {
        "id": "PHa5Ey0_1Lhg",
        "colab_type": "code",
        "colab": {}
      },
      "source": [
        "!pip install turicreate==5.2 2>&1\n",
        "!pip uninstall -y mxnet \n",
        "!pip install mxnet-cu91==1.1.0 2>&1"
      ],
      "execution_count": 0,
      "outputs": []
    },
    {
      "cell_type": "code",
      "metadata": {
        "id": "0hT0JtuE1NJo",
        "colab_type": "code",
        "colab": {}
      },
      "source": [
        "!pip install numpy --upgrade 2>&1\n",
        "!pip install skafos"
      ],
      "execution_count": 0,
      "outputs": []
    },
    {
      "cell_type": "markdown",
      "metadata": {
        "colab_type": "text",
        "id": "pou3lQv6DV_T"
      },
      "source": [
        "## Data Preparation and Model Training\n",
        "The data for this example are 324 images: 100 chairs, 99 tables, 91 beds and 34 couches. The original data was taken from Google's open source [Open Images Dataset](https://storage.googleapis.com/openimages/web/index.html).\n",
        "\n",
        "Once loaded, the data is randomly split into train and test sets, where 80% of the data is used for training and 20% is used for model evaluation (if you desire). Training this model with a GPU is much faster than CPU time. By default, this runtime environment will use Python 3 GPU backend instance."
      ]
    },
    {
      "cell_type": "code",
      "metadata": {
        "colab_type": "code",
        "id": "Ui2thoXv5Qkq",
        "colab": {}
      },
      "source": [
        "# Import libraries\n",
        "import tarfile\n",
        "import urllib\n",
        "import turicreate as tc\n",
        "import os\n",
        "tc.config.set_num_gpus(1)"
      ],
      "execution_count": 0,
      "outputs": []
    },
    {
      "cell_type": "code",
      "metadata": {
        "colab_type": "code",
        "id": "WqdLBjEu5pz0",
        "colab": {}
      },
      "source": [
        "# Specify the data set download url\n",
        "data_url = \"https://s3.amazonaws.com/skafos.example.data/ObjectDetection/couch_chair_table_bed.sframe.tar.gz\"\n",
        "data_path = \"couch_chair_table_bed.sframe.tar.gz\"\n",
        "\n",
        "# Pull the compressed data and extract it\n",
        "retrieve = urllib.request.urlretrieve(data_url, data_path)\n",
        "tar = tarfile.open(data_path)\n",
        "tar.extractall()\n",
        "tar.close()"
      ],
      "execution_count": 0,
      "outputs": []
    },
    {
      "cell_type": "code",
      "metadata": {
        "colab_type": "code",
        "id": "lNCHTdcY6Go2",
        "colab": {}
      },
      "source": [
        "## Load the data\n",
        "data =  tc.SFrame('couch_chair_table_bed.sframe')\n",
        "\n",
        "## Make a train-test split\n",
        "train_data, test_data = data.random_split(0.8)"
      ],
      "execution_count": 0,
      "outputs": []
    },
    {
      "cell_type": "code",
      "metadata": {
        "id": "ZxCG_EFLKQYX",
        "colab_type": "code",
        "colab": {}
      },
      "source": [
        "train_data.head()"
      ],
      "execution_count": 0,
      "outputs": []
    },
    {
      "cell_type": "code",
      "metadata": {
        "colab_type": "code",
        "id": "ZBKgB64p6s7K",
        "colab": {}
      },
      "source": [
        "# Create an object detection model\n",
        "model = tc.object_detector.create(\n",
        "    dataset=train_data,\n",
        "    max_iterations=10 # to improve model accuracy, remove the max_iterations argument and TuriCreate will tune to an appropriate number\n",
        ")\n",
        "\n",
        "# Object Detector Training Docs:\n",
        "# https://apple.github.io/turicreate/docs/api/generated/turicreate.object_detector.create.html#turicreate.object_detector.create"
      ],
      "execution_count": 0,
      "outputs": []
    },
    {
      "cell_type": "code",
      "metadata": {
        "id": "hza8N3Sjh1vI",
        "colab_type": "code",
        "colab": {}
      },
      "source": [
        "model.evaluate(test_data)"
      ],
      "execution_count": 0,
      "outputs": []
    },
    {
      "cell_type": "markdown",
      "metadata": {
        "colab_type": "text",
        "id": "8PC99TYMDYlk"
      },
      "source": [
        "## Model Export and Skafos Upload\n",
        "- Convert the model to CoreML format so that it can run on an iOS device. Then deliver the model to your apps with **[Skafos](https://skafos.ai)**.\n",
        "\n",
        "- If you don't already have an account, Sign Up for one **[here](https://dashboard.skafos.ai)**. \n",
        "- Once you've signed up for an account, grab an API token from your account settings."
      ]
    },
    {
      "cell_type": "code",
      "metadata": {
        "colab_type": "code",
        "id": "tUqqRq8V6vkN",
        "colab": {}
      },
      "source": [
        "# Specify the CoreML model name\n",
        "model_name = 'ObjectDetection'\n",
        "coreml_model_name = model_name + '.mlmodel'\n",
        "\n",
        "# Export the trained model to CoreML format\n",
        "res = model.export_coreml(coreml_model_name)"
      ],
      "execution_count": 0,
      "outputs": []
    },
    {
      "cell_type": "code",
      "metadata": {
        "id": "taVZLyCWWtqm",
        "colab_type": "code",
        "colab": {}
      },
      "source": [
        "import skafos\n",
        "from skafos import models\n",
        "import os\n",
        "\n",
        "# Set your API Token first for repeated use\n",
        "os.environ[\"SKAFOS_API_TOKEN\"] = \"<YOUR-SKAFOS-API-TOKEN>\"\n",
        "\n",
        "# You can retrieve this info with skafos.summary()\n",
        "org_name = \"<YOUR-SKAFOS-ORG-NAME>\"    # Example: \"mike-gmail-com-467h2\"\n",
        "app_name = \"<YOUR-SKAFOS-APP-NAME>\"    # Example: \"ObjectDetection-App\"\n",
        "model_name = \"<YOUR-MODEL-NAME>\"       # Example: \"ObjectDetectionModel\"\n",
        "\n",
        "# Upload model version to Skafos\n",
        "model_upload_result = models.upload_version(\n",
        "    files=\"ObjectDetection.mlmodel\",\n",
        "    org_name=org_name,\n",
        "    app_name=app_name,\n",
        "    model_name=model_name\n",
        ")"
      ],
      "execution_count": 0,
      "outputs": []
    }
  ]
}