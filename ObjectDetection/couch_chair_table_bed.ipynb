{
  "nbformat": 4,
  "nbformat_minor": 0,
  "metadata": {
    "colab": {
      "name": "couch_chair_table_bed.ipynb",
      "version": "0.3.2",
      "provenance": [],
      "collapsed_sections": []
    },
    "kernelspec": {
      "name": "python3",
      "display_name": "Python 3"
    }
  },
  "cells": [
    {
      "metadata": {
        "colab_type": "text",
        "id": "StKdqK2ODGge"
      },
      "cell_type": "markdown",
      "source": [
        "# Object Detection: Furniture - Couches, Chairs, Tables and Beds\n",
        "Below we will do the following:\n",
        "1. Setup the training environment.\n",
        "2. Load images of couches, chairs, tables and beds and their corresponding bounding boxes.\n",
        "2. Build an object detection model for identifying the location of couches, chairs, tables and beds in images.\n",
        "3. Convert the model to CoreML and download it.\n",
        "\n",
        "The example is based on [Turi Create's Object Detection model](https://github.com/apple/turicreate/tree/master/userguide/object_detection)."
      ]
    },
    {
      "metadata": {
        "colab_type": "text",
        "id": "st-frgzfDR1y"
      },
      "cell_type": "markdown",
      "source": [
        "## Environment Setup\n",
        "Below we use  pip to install `turicreate`."
      ]
    },
    {
      "metadata": {
        "colab_type": "code",
        "id": "JTNWJwAMC-OP",
        "colab": {}
      },
      "cell_type": "code",
      "source": [
        "!pip install turicreate==5.4"
      ],
      "execution_count": 0,
      "outputs": []
    },
    {
      "metadata": {
        "colab_type": "text",
        "id": "pou3lQv6DV_T"
      },
      "cell_type": "markdown",
      "source": [
        "## Data Preparation and Model Training\n",
        "The data for this example are 324 images: 100 chairs, 99 tables, 91 beds and 34 couches. The original data was taken from Google's open source [Open Images Dataset](https://storage.googleapis.com/openimages/web/index.html).\n",
        "\n",
        "Once loaded, the data is randomly split into train and test sets, where 80% of the data is used for training and 20% is used for model evaluation (if you desire). Training this model with a GPU is much faster than CPU time. By default, this runtime environment will use Python 3 CPU backend instance.\n",
        "\n",
        "We use CPU here because exporting TuriCreate's Object Detection model to coreml is [a known issue](https://github.com/apple/turicreate/issues/1249). We are continuing to work through training + exporting with GPU on Google Colab."
      ]
    },
    {
      "metadata": {
        "colab_type": "code",
        "id": "Ui2thoXv5Qkq",
        "colab": {}
      },
      "cell_type": "code",
      "source": [
        "# Import libraries\n",
        "import tarfile\n",
        "import urllib\n",
        "import turicreate as tc"
      ],
      "execution_count": 0,
      "outputs": []
    },
    {
      "metadata": {
        "colab_type": "code",
        "id": "WqdLBjEu5pz0",
        "colab": {}
      },
      "cell_type": "code",
      "source": [
        "# Specify the data set download url\n",
        "data_url = \"https://s3.amazonaws.com/skafos.example.data/ObjectDetection/couch_chair_table_bed.sframe.tar.gz\"\n",
        "data_path = \"couch_chair_table_bed.sframe.tar.gz\"\n",
        "\n",
        "# Pull the compressed data and extract it\n",
        "retrieve = urllib.request.urlretrieve(data_url, data_path)\n",
        "tar = tarfile.open(data_path)\n",
        "tar.extractall()\n",
        "tar.close()"
      ],
      "execution_count": 0,
      "outputs": []
    },
    {
      "metadata": {
        "colab_type": "code",
        "id": "lNCHTdcY6Go2",
        "colab": {}
      },
      "cell_type": "code",
      "source": [
        "## Load the data\n",
        "data =  tc.SFrame('couch_chair_table_bed.sframe')\n",
        "\n",
        "## Make a train-test split\n",
        "train_data, test_data = data.random_split(0.8)"
      ],
      "execution_count": 0,
      "outputs": []
    },
    {
      "metadata": {
        "id": "ZxCG_EFLKQYX",
        "colab_type": "code",
        "colab": {}
      },
      "cell_type": "code",
      "source": [
        "train_data.head()"
      ],
      "execution_count": 0,
      "outputs": []
    },
    {
      "metadata": {
        "colab_type": "code",
        "id": "ZBKgB64p6s7K",
        "colab": {}
      },
      "cell_type": "code",
      "source": [
        "# Create an object detection model\n",
        "model = tc.object_detector.create(\n",
        "    dataset=train_data,\n",
        "    max_iterations=1\n",
        ")\n",
        "\n",
        "# Object Detector Training Docs:\n",
        "# https://apple.github.io/turicreate/docs/api/generated/turicreate.object_detector.create.html#turicreate.object_detector.create"
      ],
      "execution_count": 0,
      "outputs": []
    },
    {
      "metadata": {
        "colab_type": "text",
        "id": "8PC99TYMDYlk"
      },
      "cell_type": "markdown",
      "source": [
        "## Model Export and Download\n",
        "We convert the model to CoreML format so that it can run on an iOS device. Then we download it locally so it can be delivered to your apps with Skafos."
      ]
    },
    {
      "metadata": {
        "colab_type": "code",
        "id": "tUqqRq8V6vkN",
        "colab": {}
      },
      "cell_type": "code",
      "source": [
        "# Specify the CoreML model name\n",
        "model_name = 'ObjectDetection'\n",
        "coreml_model_name = model_name + '.mlmodel'\n",
        "\n",
        "# Export the trained model to CoreML format\n",
        "res = model.export_coreml(coreml_model_name) \n"
      ],
      "execution_count": 0,
      "outputs": []
    },
    {
      "metadata": {
        "colab_type": "code",
        "id": "H5cVPNi5t0Yi",
        "colab": {}
      },
      "cell_type": "code",
      "source": [
        "# Download the model you just trained!! This may take a few moments\n",
        "from google.colab import files\n",
        "files.download(coreml_model_name)"
      ],
      "execution_count": 0,
      "outputs": []
    }
  ]
}