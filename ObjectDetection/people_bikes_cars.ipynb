{
  "nbformat": 4,
  "nbformat_minor": 0,
  "metadata": {
    "colab": {
      "name": "people_bikes_cars.ipynb",
      "version": "0.3.2",
      "provenance": [],
      "collapsed_sections": []
    },
    "kernelspec": {
      "name": "python3",
      "display_name": "Python 3"
    },
    "accelerator": "GPU"
  },
  "cells": [
    {
      "cell_type": "markdown",
      "metadata": {
        "id": "l6m2EBFOjbhZ",
        "colab_type": "text"
      },
      "source": [
        "### Note\n",
        "- Below we install specific dependencies in order to train TuriCreate's object detection model.\n",
        "- We install CUDA 9.1 and several python packages.\n",
        "- This usually takes between 5 - 7 minutes"
      ]
    },
    {
      "cell_type": "code",
      "metadata": {
        "id": "AUmlXqb6ftAT",
        "colab_type": "code",
        "colab": {}
      },
      "source": [
        "# we use /dev/null to suppress much of the output and 2>&1 so suppress errors\n",
        "!rm -rf /usr/local/cuda* >/dev/null\n",
        "!sudo apt-get remove --auto-remove nvidia-cuda-toolkit >/dev/null\n",
        "!sudo apt-get purge nvidia-cuda-toolkit >/dev/null\n",
        "\n",
        "# fetch cuda 9.1 from nvidia and install it\n",
        "!wget https://developer.nvidia.com/compute/cuda/9.1/Prod/local_installers/cuda-repo-ubuntu1604-9-1-local_9.1.85-1_amd64 >/dev/null\n",
        "!sudo dpkg -i cuda-repo-ubuntu1604-9-1-local_9.1.85-1_amd64 >/dev/null 2>&1\n",
        "!sudo apt-key add /var/cuda-repo-9-1-local/7fa2af80.pub \n",
        "!sudo apt-get update >/dev/null 2>&1\n",
        "!sudo apt-get install cuda-9.1 >/dev/null 2>&1\n",
        "\n",
        "!nvcc --version"
      ],
      "execution_count": 0,
      "outputs": []
    },
    {
      "cell_type": "code",
      "metadata": {
        "id": "nGdvK5ByhScQ",
        "colab_type": "code",
        "colab": {},
        "cellView": "both"
      },
      "source": [
        "!pip install turicreate==5.2 >/dev/null\n",
        "!pip uninstall -y mxnet \n",
        "!pip install mxnet-cu91==1.1.0\n",
        "!sleep 2\n",
        "!pip install numpy --upgrade >/dev/null"
      ],
      "execution_count": 0,
      "outputs": []
    },
    {
      "cell_type": "code",
      "metadata": {
        "id": "QYDOh4Fmhf12",
        "colab_type": "code",
        "colab": {}
      },
      "source": [
        "# Import libraries\n",
        "import tarfile\n",
        "import urllib\n",
        "import turicreate as tc\n",
        "tc.config.set_num_gpus(1)"
      ],
      "execution_count": 0,
      "outputs": []
    },
    {
      "cell_type": "code",
      "metadata": {
        "id": "2aCibG7BiIUO",
        "colab_type": "code",
        "colab": {}
      },
      "source": [
        "# Specify the data set download url\n",
        "data_url = \"https://s3.amazonaws.com/skafos.example.data/ObjectDetection/ig02.sframe.tar.gz\"\n",
        "data_path = \"ig02.sframe.tar.gz\"\n",
        "\n",
        "# Pull the compressed data and extract it\n",
        "retrieve = urllib.request.urlretrieve(data_url, data_path)\n",
        "tar = tarfile.open(data_path)\n",
        "tar.extractall()\n",
        "tar.close()"
      ],
      "execution_count": 0,
      "outputs": []
    },
    {
      "cell_type": "code",
      "metadata": {
        "id": "eUjB1nBHiKU5",
        "colab_type": "code",
        "colab": {}
      },
      "source": [
        "## Load the data\n",
        "data =  tc.SFrame('ig02.sframe')\n",
        "\n",
        "## Make a train-test split\n",
        "train_data, test_data = data.random_split(0.8)"
      ],
      "execution_count": 0,
      "outputs": []
    },
    {
      "cell_type": "code",
      "metadata": {
        "id": "TInjcYpjiMCm",
        "colab_type": "code",
        "colab": {}
      },
      "source": [
        "train_data.head()"
      ],
      "execution_count": 0,
      "outputs": []
    },
    {
      "cell_type": "code",
      "metadata": {
        "id": "t-UFbJr3iNUE",
        "colab_type": "code",
        "colab": {}
      },
      "source": [
        "# Create an object detection model\n",
        "model = tc.object_detector.create(\n",
        "    dataset=train_data,\n",
        "    max_iterations=10 # to improve model accuracy, remove the max_iterations argument and TuriCreate will tune to an appropriate number\n",
        ")\n",
        "\n",
        "# Object Detector Training Docs:\n",
        "# https://apple.github.io/turicreate/docs/api/generated/turicreate.object_detector.create.html#turicreate.object_detector.create"
      ],
      "execution_count": 0,
      "outputs": []
    },
    {
      "cell_type": "code",
      "metadata": {
        "id": "r5G07yNLiPD5",
        "colab_type": "code",
        "colab": {}
      },
      "source": [
        "# Specify the CoreML model name\n",
        "model_name = 'ObjectDetection'\n",
        "coreml_model_name = model_name + '.mlmodel'\n",
        "\n",
        "# Export the trained model to CoreML format\n",
        "res = model.export_coreml(coreml_model_name)"
      ],
      "execution_count": 0,
      "outputs": []
    }
  ]
}