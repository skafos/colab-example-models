{
  "nbformat": 4,
  "nbformat_minor": 0,
  "metadata": {
    "colab": {
      "name": "people_bikes_cars.ipynb",
      "version": "0.3.2",
      "provenance": [],
      "collapsed_sections": []
    },
    "kernelspec": {
      "name": "python3",
      "display_name": "Python 3"
    }
  },
  "cells": [
    {
      "metadata": {
        "id": "StKdqK2ODGge",
        "colab_type": "text"
      },
      "cell_type": "markdown",
      "source": [
        "# Object Detection: People, Bikes, and Cars\n",
        "Below we will do the following:\n",
        "1. Setup the training environment.\n",
        "2. Load images of cars, bikes and people and their corresponding bounding boxes.\n",
        "2. Build an object detection model for identifying the location of cars, bikes and people in images.\n",
        "3. Convert the model to CoreML and download it.\n",
        "\n",
        "The example is based on [Turi Create's Object Detection model](https://github.com/apple/turicreate/tree/master/userguide/object_detection)."
      ]
    },
    {
      "metadata": {
        "id": "st-frgzfDR1y",
        "colab_type": "text"
      },
      "cell_type": "markdown",
      "source": [
        "## Environment Setup\n",
        "Below we use pip to install `turicreate`."
      ]
    },
    {
      "metadata": {
        "id": "JTNWJwAMC-OP",
        "colab_type": "code",
        "colab": {}
      },
      "cell_type": "code",
      "source": [
        "!pip install turicreate"
      ],
      "execution_count": 0,
      "outputs": []
    },
    {
      "metadata": {
        "id": "pou3lQv6DV_T",
        "colab_type": "text"
      },
      "cell_type": "markdown",
      "source": [
        "## Data Preparation and Model Training\n",
        "The data for this example are 1096 images: 420 cars, 365 bikes, and 311 people. You can find the original dataset [here](https://lear.inrialpes.fr/people/marszalek/data/ig02/).\n",
        "\n",
        "Once loaded, the data is randomly split into train and test sets, where 80% of the data is used for training and 20% is used for model evaluation (if you desire). Training this model with a GPU is much faster than CPU time. By default, this runtime environment will use Python 3 CPU backend instance.\n",
        "\n",
        "We use CPU here because exporting TuriCreate's Object Detection model to coreml is [a known issue](https://github.com/apple/turicreate/issues/1249). We are continuing to work through training + exporting with GPU on Google Colab."
      ]
    },
    {
      "metadata": {
        "id": "Ui2thoXv5Qkq",
        "colab_type": "code",
        "colab": {}
      },
      "cell_type": "code",
      "source": [
        "# Import libraries\n",
        "import tarfile\n",
        "import urllib\n",
        "import turicreate as tc"
      ],
      "execution_count": 0,
      "outputs": []
    },
    {
      "metadata": {
        "id": "WqdLBjEu5pz0",
        "colab_type": "code",
        "colab": {}
      },
      "cell_type": "code",
      "source": [
        "# Specify the data set download url\n",
        "data_url = \"https://s3.amazonaws.com/skafos.example.data/ObjectDetection/ig02.sframe.tar.gz\"\n",
        "data_path = \"ig02.sframe.tar.gz\"\n",
        "\n",
        "# Pull the compressed data and extract it\n",
        "retrieve = urllib.request.urlretrieve(data_url, data_path)\n",
        "tar = tarfile.open(data_path)\n",
        "tar.extractall()\n",
        "tar.close()"
      ],
      "execution_count": 0,
      "outputs": []
    },
    {
      "metadata": {
        "id": "lNCHTdcY6Go2",
        "colab_type": "code",
        "colab": {}
      },
      "cell_type": "code",
      "source": [
        "## Load the data\n",
        "data =  tc.SFrame('ig02.sframe')\n",
        "\n",
        "## Make a train-test split\n",
        "train_data, test_data = data.random_split(0.8)"
      ],
      "execution_count": 0,
      "outputs": []
    },
    {
      "metadata": {
        "id": "Se0_-MogkAkj",
        "colab_type": "code",
        "colab": {}
      },
      "cell_type": "code",
      "source": [
        "train_data.head()"
      ],
      "execution_count": 0,
      "outputs": []
    },
    {
      "metadata": {
        "id": "ZBKgB64p6s7K",
        "colab_type": "code",
        "colab": {}
      },
      "cell_type": "code",
      "source": [
        "# Create an object detection model\n",
        "model = tc.object_detector.create(\n",
        "    dataset=train_data,\n",
        "    max_iterations=1\n",
        ")\n",
        "\n",
        "# Object Detector Training Docs:\n",
        "# https://apple.github.io/turicreate/docs/api/generated/turicreate.object_detector.create.html#turicreate.object_detector.create"
      ],
      "execution_count": 0,
      "outputs": []
    },
    {
      "metadata": {
        "id": "8PC99TYMDYlk",
        "colab_type": "text"
      },
      "cell_type": "markdown",
      "source": [
        "## Model Export and Download\n",
        "We convert the model to CoreML format so that it can run on an iOS device. Then we download it locally so it can be delivered to your apps with Skafos."
      ]
    },
    {
      "metadata": {
        "id": "tUqqRq8V6vkN",
        "colab_type": "code",
        "colab": {}
      },
      "cell_type": "code",
      "source": [
        "# Specify the CoreML model name\n",
        "model_name = 'ObjectDetection'\n",
        "coreml_model_name = model_name + '.mlmodel'\n",
        "\n",
        "# Export the trained model to CoreML format\n",
        "res = model.export_coreml(coreml_model_name) \n"
      ],
      "execution_count": 0,
      "outputs": []
    },
    {
      "metadata": {
        "id": "H5cVPNi5t0Yi",
        "colab_type": "code",
        "colab": {}
      },
      "cell_type": "code",
      "source": [
        "# Download the model you just trained!! This may take a few moments\n",
        "from google.colab import files\n",
        "files.download(coreml_model_name)"
      ],
      "execution_count": 0,
      "outputs": []
    }
  ]
}