{
  "nbformat": 4,
  "nbformat_minor": 0,
  "metadata": {
    "colab": {
      "name": "coffee_pen_computer.ipynb",
      "version": "0.3.2",
      "provenance": [],
      "collapsed_sections": [],
      "toc_visible": true
    },
    "language_info": {
      "codemirror_mode": {
        "name": "ipython",
        "version": 3
      },
      "file_extension": ".py",
      "mimetype": "text/x-python",
      "name": "python",
      "nbconvert_exporter": "python",
      "pygments_lexer": "ipython3",
      "version": "3.6.8"
    },
    "kernelspec": {
      "name": "python3",
      "display_name": "Python 3"
    },
    "accelerator": "GPU"
  },
  "cells": [
    {
      "cell_type": "markdown",
      "metadata": {
        "colab_type": "text",
        "id": "StKdqK2ODGge"
      },
      "source": [
        "# Object Detection: Coffee Mugs, Pens and Computer Monitors\n",
        "Below we will do the following:\n",
        "1. Setup the training environment.\n",
        "2. Load images of coffee mugs, pens and computer monitors and their corresponding bounding boxes.\n",
        "2. Build an object detection model for identifying the location of coffee mugs, pens and computer monitors in images.\n",
        "3. Convert the model to CoreML and download it.\n",
        "\n",
        "The example is based on [Turi Create's Object Detection model](https://github.com/apple/turicreate/tree/master/userguide/object_detection)."
      ]
    },
    {
      "cell_type": "markdown",
      "metadata": {
        "colab_type": "text",
        "id": "st-frgzfDR1y"
      },
      "source": [
        "## Environment Setup\n",
        "Below we:\n",
        "- Remove existing cuda versions and install cuda 9.1 \n",
        "- Install TuriCreate 5.2 and some specific dependencies to get GPU training capabilities.\n",
        "- We upgrade numpy so that we can export to coreml at the end."
      ]
    },
    {
      "cell_type": "code",
      "metadata": {
        "id": "a_dB8TCon8kN",
        "colab_type": "code",
        "colab": {}
      },
      "source": [
        "# we use /dev/null to suppress much of the output and 2>&1 to suppress errors\n",
        "!rm -rf /usr/local/cuda* >/dev/null\n",
        "\n",
        "# fetch cuda 9.1 from nvidia and install it\n",
        "!wget https://developer.nvidia.com/compute/cuda/9.1/Prod/local_installers/cuda-repo-ubuntu1604-9-1-local_9.1.85-1_amd64 >/dev/null\n",
        "!sudo dpkg -i cuda-repo-ubuntu1604-9-1-local_9.1.85-1_amd64 >/dev/null 2>&1\n",
        "!sudo apt-key add /var/cuda-repo-9-1-local/7fa2af80.pub \n",
        "!sudo apt-get update >/dev/null 2>&1\n",
        "!sudo apt-get install cuda-9.1 >/dev/null 2>&1\n",
        "\n",
        "!nvcc --version"
      ],
      "execution_count": 0,
      "outputs": []
    },
    {
      "cell_type": "code",
      "metadata": {
        "colab_type": "code",
        "id": "3pryct_vt0qW",
        "colab": {}
      },
      "source": [
        "!pip install skafos\n",
        "!pip install turicreate==5.2 2>&1\n",
        "!pip uninstall -y mxnet \n",
        "!pip install mxnet-cu91==1.1.0 2>&1"
      ],
      "execution_count": 0,
      "outputs": []
    },
    {
      "cell_type": "code",
      "metadata": {
        "id": "wG7S8hSErIYY",
        "colab_type": "code",
        "colab": {}
      },
      "source": [
        "!pip install numpy --upgrade 2>&1"
      ],
      "execution_count": 0,
      "outputs": []
    },
    {
      "cell_type": "markdown",
      "metadata": {
        "colab_type": "text",
        "id": "pou3lQv6DV_T"
      },
      "source": [
        "## Data Preparation and Model Training\n",
        "The data for this example are 186 images: 100 coffee mugs, 47 computer monitors, and 39 pens. The original data was taken from Google's open source [Open Images Dataset](https://storage.googleapis.com/openimages/web/index.html).\n",
        "\n",
        "Once loaded, the data is randomly split into train and test sets, where 80% of the data is used for training and 20% is used for model evaluation (if you desire). Training this model with a GPU is much faster than CPU time. By default, this runtime environment will use Python 3 GPU backend instance."
      ]
    },
    {
      "cell_type": "code",
      "metadata": {
        "colab_type": "code",
        "id": "Ui2thoXv5Qkq",
        "colab": {}
      },
      "source": [
        "# Import libraries\n",
        "import tarfile\n",
        "import urllib\n",
        "import turicreate as tc\n",
        "import os\n",
        "tc.config.set_num_gpus(1)"
      ],
      "execution_count": 0,
      "outputs": []
    },
    {
      "cell_type": "code",
      "metadata": {
        "colab_type": "code",
        "id": "WqdLBjEu5pz0",
        "colab": {}
      },
      "source": [
        "# Specify the data set download url\n",
        "data_url = \"https://s3.amazonaws.com/skafos.example.data/ObjectDetection/coffee_pen_computer.sframe.tar.gz\"\n",
        "data_path = \"coffee_pen_computer.sframe.tar.gz\"\n",
        "\n",
        "# Pull the compressed data and extract it\n",
        "retrieve = urllib.request.urlretrieve(data_url, data_path)\n",
        "tar = tarfile.open(data_path)\n",
        "tar.extractall()\n",
        "tar.close()"
      ],
      "execution_count": 0,
      "outputs": []
    },
    {
      "cell_type": "code",
      "metadata": {
        "colab_type": "code",
        "id": "lNCHTdcY6Go2",
        "colab": {}
      },
      "source": [
        "## Load the data\n",
        "data =  tc.SFrame('./coffee_pen_computer.sframe')\n",
        "\n",
        "## Make a train-test split\n",
        "train_data, test_data = data.random_split(0.8)"
      ],
      "execution_count": 0,
      "outputs": []
    },
    {
      "cell_type": "code",
      "metadata": {
        "id": "zpCAs1ZVJ4WC",
        "colab_type": "code",
        "colab": {}
      },
      "source": [
        "train_data.head()"
      ],
      "execution_count": 0,
      "outputs": []
    },
    {
      "cell_type": "code",
      "metadata": {
        "colab_type": "code",
        "id": "ZBKgB64p6s7K",
        "colab": {}
      },
      "source": [
        "# Create an object detection model\n",
        "model = tc.object_detector.create(\n",
        "    dataset=train_data,\n",
        "    max_iterations=10 # to improve model accuracy, remove the max_iterations argument and TuriCreate will tune to an appropriate number\n",
        ")\n",
        "\n",
        "# Object Detector Training Docs:\n",
        "# https://apple.github.io/turicreate/docs/api/generated/turicreate.object_detector.create.html#turicreate.object_detector.create"
      ],
      "execution_count": 0,
      "outputs": []
    },
    {
      "cell_type": "code",
      "metadata": {
        "id": "QsAeEC07h4JP",
        "colab_type": "code",
        "colab": {}
      },
      "source": [
        "model.evaluate(test_data)"
      ],
      "execution_count": 0,
      "outputs": []
    },
    {
      "cell_type": "markdown",
      "metadata": {
        "colab_type": "text",
        "id": "8PC99TYMDYlk"
      },
      "source": [
        "## Model Export and Download\n",
        "We convert the model to CoreML format so that it can run on an iOS device.\n",
        "\n",
        "To download the model, look under the Files tab in the file pane on the left hand side of this notebook."
      ]
    },
    {
      "cell_type": "code",
      "metadata": {
        "colab_type": "code",
        "id": "tUqqRq8V6vkN",
        "colab": {}
      },
      "source": [
        "# Specify the CoreML model name\n",
        "model_name = 'ObjectDetection'\n",
        "coreml_model_name = model_name + '.mlmodel'\n",
        "\n",
        "# Export the trained model to CoreML format\n",
        "res = model.export_coreml(coreml_model_name) "
      ],
      "execution_count": 0,
      "outputs": []
    }
  ]
}