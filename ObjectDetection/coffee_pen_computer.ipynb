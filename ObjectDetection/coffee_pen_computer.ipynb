{
 "cells": [
  {
   "cell_type": "markdown",
   "metadata": {
    "colab_type": "text",
    "id": "StKdqK2ODGge"
   },
   "source": [
    "# Object Detection: Coffee Mugs, Pens and Computer Monitors\n",
    "Below we will do the following:\n",
    "1. Setup the training environment.\n",
    "2. Load images of coffee mugs, pens and computer monitors and their corresponding bounding boxes.\n",
    "2. Build an object detection model for identifying the location of coffee mugs, pens and computer monitors in images.\n",
    "3. Convert the model to CoreML and download it.\n",
    "\n",
    "The example is based on [Turi Create's Object Detection model](https://github.com/apple/turicreate/tree/master/userguide/object_detection)."
   ]
  },
  {
   "cell_type": "markdown",
   "metadata": {
    "colab_type": "text",
    "id": "st-frgzfDR1y"
   },
   "source": [
    "## Environment Setup\n",
    "Below we ensure `CUDA 10` is installed and then use pip to install `turicreate` and `mxnet-cu100` libraries."
   ]
  },
  {
   "cell_type": "code",
   "execution_count": null,
   "metadata": {
    "colab": {},
    "colab_type": "code",
    "id": "JTNWJwAMC-OP"
   },
   "outputs": [],
   "source": [
    "!pip install turicreate==5.4\n",
    "# The wrong version of mxnet will be installed\n",
    "!pip uninstall -y mxnet\n",
    "# Install CUDA10-compatible version of mxnet\n",
    "!pip install mxnet-cu100"
   ]
  },
  {
   "cell_type": "markdown",
   "metadata": {
    "colab_type": "text",
    "id": "pou3lQv6DV_T"
   },
   "source": [
    "## Data Preparation and Model Training\n",
    "The data for this example are 186 images: 100 coffee mugs, 47 computer monitors, and 39 pens. The original data was taken from Google's open source [Open Images Dataset](https://storage.googleapis.com/openimages/web/index.html).\n",
    "\n",
    "Once loaded, the data is randomly split into train and test sets, where 80% of the data is used for training and 20% is used for model evaluation (if you desire). Training this model with a GPU is much faster than CPU time. By default, this runtime environment should be using a Python 3 GPU backend instance. Below, we tell Turicreate to use all available GPUs for processing."
   ]
  },
  {
   "cell_type": "code",
   "execution_count": null,
   "metadata": {
    "colab": {},
    "colab_type": "code",
    "id": "Ui2thoXv5Qkq"
   },
   "outputs": [],
   "source": [
    "# Import libraries and tell Turicreate to use all GPUs available\n",
    "import tarfile\n",
    "import urllib.request\n",
    "\n",
    "import coremltools\n",
    "import turicreate as tc\n",
    "tc.config.set_num_gpus(-1)"
   ]
  },
  {
   "cell_type": "code",
   "execution_count": null,
   "metadata": {
    "colab": {},
    "colab_type": "code",
    "id": "WqdLBjEu5pz0"
   },
   "outputs": [],
   "source": [
    "# Specify the data set download url\n",
    "data_url = \"https://s3.amazonaws.com/skafos.example.data/ObjectDetection/coffee_pen_computer.sframe.tar.gz\"\n",
    "data_path = \"coffee_pen_computer.sframe.tar.gz\"\n",
    "\n",
    "# Pull the compressed data and extract it\n",
    "retrieve = urllib.request.urlretrieve(data_url, data_path)\n",
    "tar = tarfile.open(data_path)\n",
    "tar.extractall()\n",
    "tar.close()"
   ]
  },
  {
   "cell_type": "code",
   "execution_count": null,
   "metadata": {
    "colab": {},
    "colab_type": "code",
    "id": "lNCHTdcY6Go2"
   },
   "outputs": [],
   "source": [
    "## Load the data\n",
    "data =  tc.SFrame('./coffee_pen_computer.sframe')\n",
    "\n",
    "## Make a train-test split\n",
    "train_data, test_data = data.random_split(0.8)"
   ]
  },
  {
   "cell_type": "code",
   "execution_count": null,
   "metadata": {},
   "outputs": [],
   "source": [
    "train_data.head()"
   ]
  },
  {
   "cell_type": "code",
   "execution_count": null,
   "metadata": {
    "colab": {},
    "colab_type": "code",
    "id": "ZBKgB64p6s7K"
   },
   "outputs": [],
   "source": [
    "# Create an object detection model\n",
    "model = tc.object_detector.create(\n",
    "    dataset=train_data\n",
    ")\n",
    "\n",
    "# Object Detector Training Docs:\n",
    "# https://apple.github.io/turicreate/docs/api/generated/turicreate.object_detector.create.html#turicreate.object_detector.create"
   ]
  },
  {
   "cell_type": "markdown",
   "metadata": {
    "colab_type": "text",
    "id": "8PC99TYMDYlk"
   },
   "source": [
    "## Model Export and Download\n",
    "We convert the model to CoreML format so that it can run on an iOS device. Then we download it locally so it can be delivered to your apps with Skafos."
   ]
  },
  {
   "cell_type": "code",
   "execution_count": null,
   "metadata": {
    "colab": {},
    "colab_type": "code",
    "id": "tUqqRq8V6vkN"
   },
   "outputs": [],
   "source": [
    "# Specify the CoreML model name\n",
    "model_name = 'ObjectDetection'\n",
    "coreml_model_name = model_name + '.mlmodel'\n",
    "\n",
    "# Export the trained model to CoreML format\n",
    "res = model.export_coreml(coreml_model_name) \n"
   ]
  },
  {
   "cell_type": "code",
   "execution_count": null,
   "metadata": {
    "colab": {},
    "colab_type": "code",
    "id": "H5cVPNi5t0Yi"
   },
   "outputs": [],
   "source": [
    "# Download the model you just trained!! This may take a few moments\n",
    "from google.colab import files\n",
    "files.download(coreml_model_name)"
   ]
  }
 ],
 "metadata": {
  "accelerator": "GPU",
  "colab": {
   "collapsed_sections": [],
   "name": "people_bikes_cars.ipynb",
   "provenance": [],
   "version": "0.3.2"
  },
  "kernelspec": {
   "display_name": "Python 3",
   "language": "python",
   "name": "python3"
  },
  "language_info": {
   "codemirror_mode": {
    "name": "ipython",
    "version": 3
   },
   "file_extension": ".py",
   "mimetype": "text/x-python",
   "name": "python",
   "nbconvert_exporter": "python",
   "pygments_lexer": "ipython3",
   "version": "3.6.8"
  }
 },
 "nbformat": 4,
 "nbformat_minor": 2
}
