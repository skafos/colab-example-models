{
  "nbformat": 4,
  "nbformat_minor": 0,
  "metadata": {
    "colab": {
      "name": "spam_or_ham.ipynb",
      "version": "0.3.2",
      "provenance": [],
      "collapsed_sections": []
    },
    "language_info": {
      "codemirror_mode": {
        "name": "ipython",
        "version": 3
      },
      "file_extension": ".py",
      "mimetype": "text/x-python",
      "name": "python",
      "nbconvert_exporter": "python",
      "pygments_lexer": "ipython3",
      "version": "3.6.5"
    },
    "kernelspec": {
      "name": "python3",
      "display_name": "Python 3"
    }
  },
  "cells": [
    {
      "metadata": {
        "id": "wAJumBbf5nJj",
        "colab_type": "text"
      },
      "cell_type": "markdown",
      "source": [
        "# Text Classification: Spam or Ham\n",
        " Trains a model to classify user text as \"spam\" (bad) or \"ham\" (good).\n",
        "\n",
        "Below we do the following:\n",
        "1. Setup the training environment.\n",
        "2. Load and clean the SMS text data (from [UCI ML Repository](https://archive.ics.uci.edu/ml/datasets/SMS+Spam+Collection)).\n",
        "2. Build and evaluate the spam classifier model.\n",
        "3. Convert the model to CoreML format and download it."
      ]
    },
    {
      "metadata": {
        "id": "pGqDW64H6T1r",
        "colab_type": "text"
      },
      "cell_type": "markdown",
      "source": [
        "## Environment Setup\n",
        "All we need to do is install the turicreate library to get started. This example **doesn't** use a GPU for training."
      ]
    },
    {
      "metadata": {
        "id": "fs1kSU1z6aML",
        "colab_type": "code",
        "colab": {}
      },
      "cell_type": "code",
      "source": [
        "# Install turicreate\n",
        "!pip install turicreate==5.4"
      ],
      "execution_count": 0,
      "outputs": []
    },
    {
      "metadata": {
        "id": "DvvjPxCQ6itJ",
        "colab_type": "text"
      },
      "cell_type": "markdown",
      "source": [
        "## Data Preparation and Model Training\n",
        "The data loaded below is SMS text message data labeled with \"spam\" or \"ham\". First, the data is processed and then it's split into training and testing datasets."
      ]
    },
    {
      "metadata": {
        "id": "znI8oCSc5nJl",
        "colab_type": "code",
        "colab": {}
      },
      "cell_type": "code",
      "source": [
        "# Import libraries\n",
        "import requests, zipfile, io\n",
        "\n",
        "import turicreate as tc"
      ],
      "execution_count": 0,
      "outputs": []
    },
    {
      "metadata": {
        "id": "6gLDdRfk5nJt",
        "colab_type": "code",
        "colab": {}
      },
      "cell_type": "code",
      "source": [
        "# Functions to load spam dataset\n",
        "def load_spam_dataset():\n",
        "    spam_url = 'https://archive.ics.uci.edu/ml/machine-learning-databases/00228/smsspamcollection.zip'\n",
        "    _request_and_unzip(spam_url, 'spam/')\n",
        "    with open(\"datasets/spam/SMSSpamCollection\", \"r\", encoding=\"utf-8\") as infile:\n",
        "        d = infile.readlines()\n",
        "    return d\n",
        "\n",
        "def _request_and_unzip(url, folder):\n",
        "    r = requests.get(url)\n",
        "    if r.ok:\n",
        "        z = zipfile.ZipFile(io.BytesIO(r.content))\n",
        "        z.extractall(f'datasets/{folder}')\n"
      ],
      "execution_count": 0,
      "outputs": []
    },
    {
      "metadata": {
        "id": "nQmBq_GW5nJv",
        "colab_type": "code",
        "colab": {}
      },
      "cell_type": "code",
      "source": [
        "# Fetch data and take a look\n",
        "spam_data = load_spam_dataset()\n",
        "print(spam_data[:4], flush=True)"
      ],
      "execution_count": 0,
      "outputs": []
    },
    {
      "metadata": {
        "id": "k-8EPHOI5nJy",
        "colab_type": "code",
        "colab": {}
      },
      "cell_type": "code",
      "source": [
        "# Split text data from its target variable (\"ham\", \"spam\")\n",
        "spam_labels = [line.split('\\t')[0] for line in spam_data]\n",
        "spam_text = [line.split('\\t')[1].replace('\\n', '') for line in spam_data]\n",
        "spam_df = tc.SFrame({'label': spam_labels, 'text': spam_text})"
      ],
      "execution_count": 0,
      "outputs": []
    },
    {
      "metadata": {
        "id": "QUA5N5Yf5nJ0",
        "colab_type": "code",
        "colab": {}
      },
      "cell_type": "code",
      "source": [
        "# What does our resulting dataframe look like?\n",
        "spam_df.head(5)"
      ],
      "execution_count": 0,
      "outputs": []
    },
    {
      "metadata": {
        "id": "JnPs2ekJ5nJ3",
        "colab_type": "code",
        "colab": {}
      },
      "cell_type": "code",
      "source": [
        "# Make a train-test split\n",
        "train_data, test_data = spam_df.random_split(0.8)"
      ],
      "execution_count": 0,
      "outputs": []
    },
    {
      "metadata": {
        "id": "pGNEwx4m5nJ6",
        "colab_type": "code",
        "colab": {}
      },
      "cell_type": "code",
      "source": [
        "# Train the spam filter classification model, this takes approximately 5-10 seconds using CPU.\n",
        "spam_model = tc.text_classifier.create(\n",
        "    train_data,\n",
        "    target='label',\n",
        "    features=['text'],\n",
        "    drop_stop_words=True,\n",
        "    word_count_threshold=2\n",
        ")"
      ],
      "execution_count": 0,
      "outputs": []
    },
    {
      "metadata": {
        "id": "rnq9SWzQXcQN",
        "colab_type": "text"
      },
      "cell_type": "markdown",
      "source": [
        "## Model Evaluation"
      ]
    },
    {
      "metadata": {
        "id": "wISEZMyT5nJ_",
        "colab_type": "code",
        "colab": {}
      },
      "cell_type": "code",
      "source": [
        "# The counts where target and predicted label are the same (meaning the model got it right) should be higher\n",
        "predictions = spam_model.predict(test_data)\n",
        "tc.evaluation.confusion_matrix(test_data['label'], predictions)"
      ],
      "execution_count": 0,
      "outputs": []
    },
    {
      "metadata": {
        "id": "JF-4KeAI5nKB",
        "colab_type": "code",
        "colab": {}
      },
      "cell_type": "code",
      "source": [
        "# Model testing accuracy\n",
        "accuracy = tc.evaluation.accuracy(test_data['label'], predictions)\n",
        "print(f'Spam filter model has a testing accuracy of {accuracy*100} % !', flush=True)"
      ],
      "execution_count": 0,
      "outputs": []
    },
    {
      "metadata": {
        "id": "eoB8pgzt5nKF",
        "colab_type": "code",
        "colab": {}
      },
      "cell_type": "code",
      "source": [
        "# generate some sample text data\n",
        "sample_text = ['WINNER! You have been selected for a CASH prize!', 'hey how are you?',\n",
        "               'Do you want to be a millionaire? You can for free.0020', 'What is the weather like today?']\n",
        "\n",
        "sample_predictions = spam_model.predict(tc.SFrame({'text': sample_text}))\n",
        "\n",
        "# investiage the results\n",
        "for t, p in zip(sample_text, sample_predictions):\n",
        "    print(t, '----', p)"
      ],
      "execution_count": 0,
      "outputs": []
    },
    {
      "metadata": {
        "id": "vXf1EXVnH8m5",
        "colab_type": "text"
      },
      "cell_type": "markdown",
      "source": [
        "## Model Export and Download\n",
        "We convert the model to CoreML format so that it can run on an iOS device. Then we download it locally so it can be delivered to your apps with **[Skafos](https://skafos.ai)**."
      ]
    },
    {
      "metadata": {
        "id": "4q7OOW43IFYU",
        "colab_type": "code",
        "colab": {}
      },
      "cell_type": "code",
      "source": [
        "# Specify the CoreML model name\n",
        "model_name = 'TextClassifier'\n",
        "coreml_model_name = model_name + '.mlmodel'\n",
        "\n",
        "# Export the trained model to CoreML format\n",
        "res = spam_model.export_coreml(coreml_model_name)"
      ],
      "execution_count": 0,
      "outputs": []
    },
    {
      "metadata": {
        "id": "PKXjWGfqIP7B",
        "colab_type": "code",
        "colab": {}
      },
      "cell_type": "code",
      "source": [
        "\n",
        "# Download the model you just trained!! This may take a few moments and may throw an exception. It should still download.\n",
        "from google.colab import files\n",
        "files.download(coreml_model_name)"
      ],
      "execution_count": 0,
      "outputs": []
    }
  ]
}