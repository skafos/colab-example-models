{
  "nbformat": 4,
  "nbformat_minor": 0,
  "metadata": {
    "colab": {
      "name": "sentiment_classifier.ipynb",
      "version": "0.3.2",
      "provenance": [],
      "collapsed_sections": []
    },
    "kernelspec": {
      "name": "python3",
      "display_name": "Python 3"
    }
  },
  "cells": [
    {
      "cell_type": "markdown",
      "metadata": {
        "id": "OwP_hLw_nWNQ",
        "colab_type": "text"
      },
      "source": [
        "# Text Classification: Sentiment\n",
        "Trains a model to classify user text as positive (5), negative (1), or in between.\n",
        "\n",
        "Below we do the following:\n",
        "\n",
        "1. Setup the training environment.\n",
        "2. Load labeled text training data.\n",
        "3. Build a sentiment classification model.\n",
        "4. Convert the model to CoreML and upload to Skafos.\n",
        "\n",
        "The example is based on [Turi Create's Text Classifier](https://github.com/apple/turicreate/tree/master/userguide/text_classifier)."
      ]
    },
    {
      "cell_type": "markdown",
      "metadata": {
        "id": "J1bbAUbsnctE",
        "colab_type": "text"
      },
      "source": [
        "## Environment Setup\n",
        "All we need to do is install the turicreate and skafos libraries to get started. This example **doesn't** use a GPU for training."
      ]
    },
    {
      "cell_type": "code",
      "metadata": {
        "id": "bS9FYiQInb3x",
        "colab_type": "code",
        "colab": {}
      },
      "source": [
        "# Install turicreate and skafos\n",
        "!pip install turicreate==5.4\n",
        "!pip install skafos"
      ],
      "execution_count": 0,
      "outputs": []
    },
    {
      "cell_type": "markdown",
      "metadata": {
        "id": "gyQndlOqnjno",
        "colab_type": "text"
      },
      "source": [
        "## Data Preparation and Model Training\n",
        "The training data for this example is Yelp review data, paired with sentiment scores. The data is randomly split into train and test sets, where 80% of the data is used for training, and 20% is used for model evaluation.\n",
        "\n",
        "Sentiment classification is the task of assigning a positivity/negativity rating on a scale from 1-5 over a piece of text. A 5 means the text is positive, and a 1 means the text is negative."
      ]
    },
    {
      "cell_type": "code",
      "metadata": {
        "id": "Ui2thoXv5Qkq",
        "colab_type": "code",
        "colab": {}
      },
      "source": [
        "# Import turicreate \n",
        "import turicreate as tc"
      ],
      "execution_count": 0,
      "outputs": []
    },
    {
      "cell_type": "code",
      "metadata": {
        "id": "WqdLBjEu5pz0",
        "colab_type": "code",
        "colab": {}
      },
      "source": [
        "# Load data from Turi Create's website\n",
        "data = tc.SFrame('https://static.turi.com/datasets/regression/yelp-data.csv')\n",
        "\n",
        "# Rename target column for standardization\n",
        "data['label'] = data['stars'].astype(str)\n",
        "\n",
        "# Make a train-test split\n",
        "train_data, test_data = data.random_split(0.8)"
      ],
      "execution_count": 0,
      "outputs": []
    },
    {
      "cell_type": "code",
      "metadata": {
        "id": "lNCHTdcY6Go2",
        "colab_type": "code",
        "colab": {}
      },
      "source": [
        "# Train a sentiment classification model - this may take a few minutes to train\n",
        "model = tc.text_classifier.create(\n",
        "    dataset=train_data,\n",
        "    target='label',\n",
        "    features=['text'],\n",
        "    drop_stop_words=True,\n",
        "    validation_set=None\n",
        ")\n",
        "\n",
        "# Text Classifier Training Docs:\n",
        "# https://apple.github.io/turicreate/docs/api/generated/turicreate.text_classifier.create.html#turicreate.text_classifier.create"
      ],
      "execution_count": 0,
      "outputs": []
    },
    {
      "cell_type": "markdown",
      "metadata": {
        "id": "-cn7NADOnnpY",
        "colab_type": "text"
      },
      "source": [
        "## Model Evaluation\n"
      ]
    },
    {
      "cell_type": "code",
      "metadata": {
        "id": "ZBKgB64p6s7K",
        "colab_type": "code",
        "colab": {}
      },
      "source": [
        "# Now that the model is trained, we can evaluate against a test set\n",
        "test_predictions = model.predict(test_data)\n",
        "accuracy = tc.evaluation.accuracy(test_data['label'], test_predictions)\n",
        "print(f'Sentiment model has a testing accuracy of {accuracy*100} % !', flush=True)"
      ],
      "execution_count": 0,
      "outputs": []
    },
    {
      "cell_type": "code",
      "metadata": {
        "id": "8sYeL9PyyVh5",
        "colab_type": "code",
        "colab": {}
      },
      "source": [
        "# Classify a new example of text - try different text values here\n",
        "example_text = {\"text\": [\"I really love it. It filled me with joy and was super awesome.\"]}\n",
        "example_prediction = model.classify(tc.SFrame(example_text))\n",
        "print(example_prediction, flush=True)"
      ],
      "execution_count": 0,
      "outputs": []
    },
    {
      "cell_type": "markdown",
      "metadata": {
        "id": "60uOXeIsnqCQ",
        "colab_type": "text"
      },
      "source": [
        "## Model Export and Skafos Upload\n",
        "- Convert the model to CoreML format so that it can run on an iOS device. Then deliver the model to your apps with **[Skafos](https://skafos.ai)**.\n",
        "\n",
        "- If you don't already have an account, Sign Up for one **[here](https://dashboard.skafos.ai)**. \n",
        "- Once you've signed up for an account, grab an API token from your account settings."
      ]
    },
    {
      "cell_type": "code",
      "metadata": {
        "id": "tUqqRq8V6vkN",
        "colab_type": "code",
        "colab": {}
      },
      "source": [
        "# Specify the CoreML model name\n",
        "model_name = 'TextClassifier'\n",
        "coreml_model_name = model_name + '.mlmodel'\n",
        "\n",
        "# Export the trained model to CoreML format\n",
        "res = model.export_coreml(coreml_model_name) \n"
      ],
      "execution_count": 0,
      "outputs": []
    },
    {
      "cell_type": "code",
      "metadata": {
        "id": "H5cVPNi5t0Yi",
        "colab_type": "code",
        "colab": {}
      },
      "source": [
        "import skafos\n",
        "from skafos import models\n",
        "import os\n",
        "\n",
        "# Set your API Token first for repeated use\n",
        "os.environ[\"SKAFOS_API_TOKEN\"] = \"<YOUR-SKAFOS-API-TOKEN>\"\n",
        "\n",
        "# You can retrieve this info with skafos.summary()\n",
        "org_name = \"<YOUR-SKAFOS-ORG-NAME>\"    # Example: \"mike-gmail-com-467h2\"\n",
        "app_name = \"<YOUR-SKAFOS-APP-NAME>\"    # Example: \"Text-App\"\n",
        "model_name = \"<YOUR-MODEL-NAME>\"       # Example: \"TextClassifierModel\"\n",
        "\n",
        "# Upload model version to Skafos\n",
        "model_upload_result = models.upload_version(\n",
        "    files=\"TextClassifier.mlmodel\",\n",
        "    org_name=org_name,\n",
        "    app_name=app_name,\n",
        "    model_name=model_name\n",
        ")"
      ],
      "execution_count": 0,
      "outputs": []
    }
  ]
}