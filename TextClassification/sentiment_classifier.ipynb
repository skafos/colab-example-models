{
  "nbformat": 4,
  "nbformat_minor": 0,
  "metadata": {
    "colab": {
      "name": "sentiment_classifier.ipynb",
      "version": "0.3.2",
      "provenance": [],
      "collapsed_sections": []
    },
    "kernelspec": {
      "name": "python3",
      "display_name": "Python 3"
    }
  },
  "cells": [
    {
      "metadata": {
        "id": "OwP_hLw_nWNQ",
        "colab_type": "text"
      },
      "cell_type": "markdown",
      "source": [
        "# Text Classification: Sentiment\n",
        "Trains a model to classify user text as positive (5), negative (1), or in between.\n",
        "\n",
        "Below we do the following:\n",
        "\n",
        "1. Setup the training environment.\n",
        "2. Load labeled text training data.\n",
        "3. Build a sentiment classification model.\n",
        "4. Convert the model to CoreML and download it.\n",
        "\n",
        "The example is based on [Turi Create's Text Classifier](https://github.com/apple/turicreate/tree/master/userguide/text_classifier)."
      ]
    },
    {
      "metadata": {
        "id": "J1bbAUbsnctE",
        "colab_type": "text"
      },
      "cell_type": "markdown",
      "source": [
        "## Environment Setup\n",
        "All we need to do is install the turicreate library to get started. This example **doesn't** use a GPU for training."
      ]
    },
    {
      "metadata": {
        "id": "bS9FYiQInb3x",
        "colab_type": "code",
        "colab": {}
      },
      "cell_type": "code",
      "source": [
        "# Install turicreate \n",
        "!pip install turicreate==5.4.1"
      ],
      "execution_count": 0,
      "outputs": []
    },
    {
      "metadata": {
        "id": "gyQndlOqnjno",
        "colab_type": "text"
      },
      "cell_type": "markdown",
      "source": [
        "## Data Preparation and Model Training\n",
        "The training data for this example is Yelp review data, paired with sentiment scores. The data is randomly split into train and test sets, where 80% of the data is used for training, and 20% is used for model evaluation.\n",
        "\n",
        "Sentiment classification is the task of assigning a positivity/negativity rating on a scale from 1-5 over a piece of text. A 5 means the text is positive, and a 1 means the text is negative."
      ]
    },
    {
      "metadata": {
        "id": "Ui2thoXv5Qkq",
        "colab_type": "code",
        "colab": {}
      },
      "cell_type": "code",
      "source": [
        "# Import turicreate\n",
        "import turicreate as tc"
      ],
      "execution_count": 0,
      "outputs": []
    },
    {
      "metadata": {
        "id": "WqdLBjEu5pz0",
        "colab_type": "code",
        "colab": {}
      },
      "cell_type": "code",
      "source": [
        "# Load data from Turi Create's website\n",
        "data = tc.SFrame('https://static.turi.com/datasets/regression/yelp-data.csv')\n",
        "\n",
        "# Rename target column for standardization\n",
        "data['label'] = data['stars'].astype(str)\n",
        "\n",
        "# Make a train-test split\n",
        "train_data, test_data = data.random_split(0.8)"
      ],
      "execution_count": 0,
      "outputs": []
    },
    {
      "metadata": {
        "id": "lNCHTdcY6Go2",
        "colab_type": "code",
        "colab": {}
      },
      "cell_type": "code",
      "source": [
        "# Train a sentiment classification model - this may take a few minutes to train\n",
        "model = tc.text_classifier.create(\n",
        "    dataset=train_data,\n",
        "    target='label',\n",
        "    features=['text'],\n",
        "    drop_stop_words=True\n",
        ")\n",
        "\n",
        "# Text Classifier Training Docs:\n",
        "# https://apple.github.io/turicreate/docs/api/generated/turicreate.text_classifier.create.html#turicreate.text_classifier.create"
      ],
      "execution_count": 0,
      "outputs": []
    },
    {
      "metadata": {
        "id": "-cn7NADOnnpY",
        "colab_type": "text"
      },
      "cell_type": "markdown",
      "source": [
        "## Model Evaluation\n"
      ]
    },
    {
      "metadata": {
        "id": "ZBKgB64p6s7K",
        "colab_type": "code",
        "colab": {}
      },
      "cell_type": "code",
      "source": [
        "# Now that the model is trained, we can evaluate against a test set\n",
        "test_predictions = model.predict(test_data)\n",
        "accuracy = tc.evaluation.accuracy(test_data['label'], test_predictions)\n",
        "print(f'Sentiment model has a testing accuracy of {accuracy*100} % !', flush=True)"
      ],
      "execution_count": 0,
      "outputs": []
    },
    {
      "metadata": {
        "id": "8sYeL9PyyVh5",
        "colab_type": "code",
        "colab": {}
      },
      "cell_type": "code",
      "source": [
        "# Classify a new example of text - try different text values here\n",
        "example_text = {\"text\": [\"I really love it. It filled me with joy and was super awesome.\"]}\n",
        "example_prediction = model.classify(tc.SFrame(example_text))\n",
        "print(example_prediction, flush=True)"
      ],
      "execution_count": 0,
      "outputs": []
    },
    {
      "metadata": {
        "id": "60uOXeIsnqCQ",
        "colab_type": "text"
      },
      "cell_type": "markdown",
      "source": [
        "## Model Export and Download\n",
        "We convert the model to CoreML format so that it can run on an iOS device. Then we download it locally so it can be delivered to your apps with **[Skafos](https://skafos.ai)**."
      ]
    },
    {
      "metadata": {
        "id": "tUqqRq8V6vkN",
        "colab_type": "code",
        "colab": {}
      },
      "cell_type": "code",
      "source": [
        "# Specify the CoreML model name\n",
        "model_name = 'TextClassifier'\n",
        "coreml_model_name = model_name + '.mlmodel'\n",
        "\n",
        "# Export the trained model to CoreML format\n",
        "res = model.export_coreml(coreml_model_name) \n"
      ],
      "execution_count": 0,
      "outputs": []
    },
    {
      "metadata": {
        "id": "H5cVPNi5t0Yi",
        "colab_type": "code",
        "colab": {}
      },
      "cell_type": "code",
      "source": [
        "# Download the model you just trained!! This may take a few moments\n",
        "from google.colab import files\n",
        "files.download(coreml_model_name)"
      ],
      "execution_count": 0,
      "outputs": []
    }
  ]
}