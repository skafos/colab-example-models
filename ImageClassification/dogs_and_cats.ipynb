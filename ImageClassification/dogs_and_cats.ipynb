{
  "nbformat": 4,
  "nbformat_minor": 0,
  "metadata": {
    "colab": {
      "name": "dogs_and_cats.ipynb",
      "version": "0.3.2",
      "provenance": [],
      "collapsed_sections": []
    },
    "kernelspec": {
      "name": "python3",
      "display_name": "Python 3"
    },
    "accelerator": "GPU"
  },
  "cells": [
    {
      "cell_type": "markdown",
      "metadata": {
        "id": "2M9a3nqGOovL",
        "colab_type": "text"
      },
      "source": [
        "# Image Classification: Dogs and Cats\n",
        "Trains a model to classify an image as a cat or a dog using 25,000 images.\n",
        "\n",
        "\n",
        "Below we will do the following:\n",
        "\n",
        "1. Setup the training environment.\n",
        "2. Load 25,000 cat and dog images.\n",
        "3. Build a classification model to predict whether an image is a cat or a dog.\n",
        "3. Convert the model to CoreML and upload it to Skafos.\n",
        "\n",
        "The example is based on [Turi Create's Image Classifier](https://apple.github.io/turicreate/docs/userguide/image_classifier/)."
      ]
    },
    {
      "cell_type": "markdown",
      "metadata": {
        "id": "iOH_V-Z2Pn_U",
        "colab_type": "text"
      },
      "source": [
        "## Environment Setup\n",
        "Below we ensure `CUDA 10` is installed and then use pip to install `turicreate`, `mxnet-cu100`, and `skafos` libraries."
      ]
    },
    {
      "cell_type": "code",
      "metadata": {
        "id": "2htt2DzY2HRc",
        "colab_type": "code",
        "colab": {}
      },
      "source": [
        "# Confirm that you have CUDA 10\n",
        "!nvcc --version"
      ],
      "execution_count": 0,
      "outputs": []
    },
    {
      "cell_type": "code",
      "metadata": {
        "id": "ua665XERc2rL",
        "colab_type": "code",
        "colab": {}
      },
      "source": [
        "# Install libraries - you might need to restart the runtime after doing this\n",
        "!pip install turicreate==5.4\n",
        "# The wrong version of mxnet will be installed\n",
        "!pip uninstall -y mxnet\n",
        "# Install CUDA10-compatible version of mxnet\n",
        "!pip install mxnet-cu100\n",
        "# install Skafos python sdk\n",
        "!pip install skafos"
      ],
      "execution_count": 0,
      "outputs": []
    },
    {
      "cell_type": "markdown",
      "metadata": {
        "id": "9kTLK7vWPvX9",
        "colab_type": "text"
      },
      "source": [
        "## Data Preparation and Model Training\n",
        "The training data for this example are 25,000 images, 12,500 cats and 12,500 dogs. The original data set is [here](https://www.microsoft.com/en-us/download/details.aspx?id=54765) and we have also included it in the public bucket listed below.\n",
        "\n",
        "After unzipping and extracting the images, they are loaded into a Turi Create SFrame and labels are created for each image based on the path. The data is randomly split into train and test sets, where 80% of the data is used for training and 20% is used for model evaluation (if you desire). Training this model with a GPU is much faster than CPU time. By default, this runtime environment should be using a Python 3 GPU backend instance. Below, we tell Turicreate to use all available GPUs for processing."
      ]
    },
    {
      "cell_type": "code",
      "metadata": {
        "id": "Ui2thoXv5Qkq",
        "colab_type": "code",
        "colab": {}
      },
      "source": [
        "# Import libraries and tell Turicreate to use all GPUs available - this may throw a warning\n",
        "import urllib\n",
        "import tarfile\n",
        "\n",
        "import coremltools\n",
        "import turicreate as tc\n",
        "tc.config.set_num_gpus(-1)"
      ],
      "execution_count": 0,
      "outputs": []
    },
    {
      "cell_type": "code",
      "metadata": {
        "id": "WqdLBjEu5pz0",
        "colab_type": "code",
        "colab": {}
      },
      "source": [
        "# Specify the data set download url\n",
        "data_url = \"https://s3.amazonaws.com/skafos.example.data/ImageClassifier/PetImages.tar.gz\"\n",
        "data_path = \"PetImages.tar.gz\"\n",
        "\n",
        "# Pull the compressed data and extract it\n",
        "retrieve = urllib.request.urlretrieve(data_url, data_path)\n",
        "tar = tarfile.open(data_path)\n",
        "tar.extractall()\n",
        "tar.close()"
      ],
      "execution_count": 0,
      "outputs": []
    },
    {
      "cell_type": "code",
      "metadata": {
        "id": "lNCHTdcY6Go2",
        "colab_type": "code",
        "colab": {}
      },
      "source": [
        "# Load images (Note: you can ignore 'Unexpected JPEG decode failure' errors)\n",
        "data = tc.image_analysis.load_images('PetImages', with_path=True, ignore_failure=True)\n",
        "\n",
        "# From the path-name, create a label column. This labels each image as either a dog or a cat \n",
        "data['label'] = data['path'].apply(lambda path: 'dog' if '/Dog' in path else 'cat')\n",
        "\n",
        "# Make a train-set split\n",
        "train_data, test_data = data.random_split(0.8)"
      ],
      "execution_count": 0,
      "outputs": []
    },
    {
      "cell_type": "code",
      "metadata": {
        "id": "CYtxEwnLx61v",
        "colab_type": "code",
        "colab": {}
      },
      "source": [
        "train_data.head()"
      ],
      "execution_count": 0,
      "outputs": []
    },
    {
      "cell_type": "code",
      "metadata": {
        "id": "ZBKgB64p6s7K",
        "colab_type": "code",
        "colab": {}
      },
      "source": [
        "# Train an image classification model - consider increasing max_iterations\n",
        "model = tc.image_classifier.create(\n",
        "    dataset=train_data,\n",
        "    target='label',\n",
        "    model='resnet-50',\n",
        "    batch_size=32,\n",
        "    max_iterations=30\n",
        ")\n",
        "\n",
        "# Image Classification Training Docs:\n",
        "# https://apple.github.io/turicreate/docs/api/generated/turicreate.image_classifier.create.html#turicreate.image_classifier.create"
      ],
      "execution_count": 0,
      "outputs": []
    },
    {
      "cell_type": "markdown",
      "metadata": {
        "id": "eXl00OXoQISI",
        "colab_type": "text"
      },
      "source": [
        "## Model Export and Skafos Upload\n",
        "- Convert the model to CoreML format so that it can run on an iOS device. Then deliver the model to your apps with **[Skafos](https://skafos.ai)**.\n",
        "\n",
        "- If you don't already have an account, Sign Up for one **[here](https://dashboard.skafos.ai)**. \n",
        "- Once you've signed up for an account, grab an API token from your account settings."
      ]
    },
    {
      "cell_type": "code",
      "metadata": {
        "id": "tUqqRq8V6vkN",
        "colab_type": "code",
        "colab": {}
      },
      "source": [
        "# Specify the CoreML model name\n",
        "model_name = 'ImageClassifier'\n",
        "coreml_model_name = model_name + '.mlmodel'\n",
        "\n",
        "# Export the trained model to CoreML format\n",
        "res = model.export_coreml(coreml_model_name) \n"
      ],
      "execution_count": 0,
      "outputs": []
    },
    {
      "cell_type": "code",
      "metadata": {
        "id": "H5cVPNi5t0Yi",
        "colab_type": "code",
        "colab": {}
      },
      "source": [
        "import skafos\n",
        "from skafos import models\n",
        "import os\n",
        "\n",
        "# Set your API Token first for repeated use\n",
        "os.environ[\"SKAFOS_API_TOKEN\"] = \"<YOUR-SKAFOS-API-TOKEN>\"\n",
        "\n",
        "# You can retrieve this info with skafos.summary()\n",
        "org_name = \"<YOUR-SKAFOS-ORG-NAME>\"    # Example: \"mike-gmail-com-467h2\"\n",
        "app_name = \"<YOUR-SKAFOS-APP-NAME>\"    # Example: \"ImageClassification-App\"\n",
        "model_name = \"<YOUR-MODEL-NAME>\"       # Example: \"ImageClassificationModel\"\n",
        "\n",
        "# Upload model version to Skafos\n",
        "model_upload_result = models.upload_version(\n",
        "    files=\"ImageClassifier.mlmodel\",\n",
        "    org_name=org_name,\n",
        "    app_name=app_name,\n",
        "    model_name=model_name\n",
        ")"
      ],
      "execution_count": 0,
      "outputs": []
    }
  ]
}