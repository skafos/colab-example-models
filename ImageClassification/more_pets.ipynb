{
  "nbformat": 4,
  "nbformat_minor": 0,
  "metadata": {
    "colab": {
      "name": "more_pets.ipynb",
      "version": "0.3.2",
      "provenance": [],
      "collapsed_sections": []
    },
    "language_info": {
      "codemirror_mode": {
        "name": "ipython",
        "version": 3
      },
      "file_extension": ".py",
      "mimetype": "text/x-python",
      "name": "python",
      "nbconvert_exporter": "python",
      "pygments_lexer": "ipython3",
      "version": "3.6.5"
    },
    "kernelspec": {
      "name": "python3",
      "display_name": "Python 3"
    },
    "accelerator": "GPU"
  },
  "cells": [
    {
      "metadata": {
        "id": "CkdOtrEU9LTz",
        "colab_type": "text"
      },
      "cell_type": "markdown",
      "source": [
        "# Image Classification: More Pets\n",
        " Trains a model to classify an image as a rabbit, mouse, hamster, fish, lizard, or snake.\n",
        "\n",
        "Below we do the following:\n",
        "\n",
        "1. Setup training environment.\n",
        "2. Load images of rabbits, mic, hamsters, fish, lizards, and snakes.\n",
        "3. Train an image classifier model.\n",
        "4. Convert the model to CoreML format and download it."
      ]
    },
    {
      "metadata": {
        "id": "gbBDdrDh9F03",
        "colab_type": "text"
      },
      "cell_type": "markdown",
      "source": [
        "## Environment Setup\n",
        "\n",
        "Below we ensure `CUDA 10` is installed and then use pip to install `turicreate` and `mxnet-cu100` libraries."
      ]
    },
    {
      "metadata": {
        "id": "wUd9DcuqrxlF",
        "colab_type": "code",
        "colab": {}
      },
      "cell_type": "code",
      "source": [
        "# Confirm that you have CUDA 10\n",
        "!nvcc --version"
      ],
      "execution_count": 0,
      "outputs": []
    },
    {
      "metadata": {
        "id": "RLEgQoVz9GbP",
        "colab_type": "code",
        "colab": {}
      },
      "cell_type": "code",
      "source": [
        "# Install libraries - you will need to restart the runtime after doing this\n",
        "!pip install turicreate\n",
        "# The wrong version of MXNET will be installed\n",
        "!pip uninstall -y mxnet\n",
        "# Install CUDA10-compatible version of mxnet-cuXX\n",
        "!pip install mxnet-cu100"
      ],
      "execution_count": 0,
      "outputs": []
    },
    {
      "metadata": {
        "id": "O5g3lx1Z9Du_",
        "colab_type": "text"
      },
      "cell_type": "markdown",
      "source": [
        "## Data Preparation and Model Training\n",
        "The training data for this example are hundreds of images of various animals, pulled from the [Open Images Dataset v4](https://storage.googleapis.com/openimages/web/index.html). \n",
        "\n",
        "After unzipping and extracting the images, they are loaded into a Turi Create SFrame and labels are created for each image based on the path. The data is randomly split into train and test sets, where 80% of the data is used for training and 20% is used for model evaluation (if you desire). Training this model with a GPU is much faster than CPU time. By default, this runtime environment should be using a Python 3 GPU backend instance. Below, we tell Turicreate to use all available GPUs for processing."
      ]
    },
    {
      "metadata": {
        "id": "CNciX52pytXt",
        "colab_type": "code",
        "colab": {}
      },
      "cell_type": "code",
      "source": [
        "# Import necessary libraries - this may throw warnings\n",
        "import os\n",
        "import urllib\n",
        "import tarfile\n",
        "\n",
        "import coremltools\n",
        "import turicreate as tc"
      ],
      "execution_count": 0,
      "outputs": []
    },
    {
      "metadata": {
        "id": "ATJcUm6xytX0",
        "colab_type": "code",
        "colab": {}
      },
      "cell_type": "code",
      "source": [
        "# Specify the data set download url\n",
        "data_url = \"https://s3.amazonaws.com/skafos.example.data/ImageClassifier/MorePets.tar.gz\"\n",
        "data_path = \"MorePets.tar.gz\"\n",
        "\n",
        "# Pull the compressed data and extract it\n",
        "retrieve = urllib.request.urlretrieve(data_url, data_path)\n",
        "tar = tarfile.open(data_path)\n",
        "tar.extractall()\n",
        "tar.close()"
      ],
      "execution_count": 0,
      "outputs": []
    },
    {
      "metadata": {
        "id": "uYzDkovkytX4",
        "colab_type": "code",
        "colab": {}
      },
      "cell_type": "code",
      "source": [
        "# Load images - you can ignore various jpeg decode errors\n",
        "data = tc.image_analysis.load_images('MorePets', with_path=True, ignore_failure=True)\n",
        "\n",
        "# From the path-name, create a label column. This labels each image as the appropriate plant\n",
        "data['label'] = data['path'].apply(lambda path: os.path.basename(os.path.dirname(path)))"
      ],
      "execution_count": 0,
      "outputs": []
    },
    {
      "metadata": {
        "id": "NUiHS1D57eSW",
        "colab_type": "code",
        "colab": {}
      },
      "cell_type": "code",
      "source": [
        "# Make a train-set split\n",
        "train_data, test_data = data.random_split(0.8)"
      ],
      "execution_count": 0,
      "outputs": []
    },
    {
      "metadata": {
        "id": "TtQ74i9jytX6",
        "colab_type": "code",
        "colab": {}
      },
      "cell_type": "code",
      "source": [
        "# Let's take a look at some training data\n",
        "train_data.head()"
      ],
      "execution_count": 0,
      "outputs": []
    },
    {
      "metadata": {
        "id": "wT7Occ1tytX9",
        "colab_type": "code",
        "colab": {}
      },
      "cell_type": "code",
      "source": [
        "# Train an image classification model - consider increasing max_iterations\n",
        "model = tc.image_classifier.create(\n",
        "    dataset=train_data,\n",
        "    target='label',\n",
        "    model='resnet-50',\n",
        "    batch_size=32,\n",
        "    max_iterations=20\n",
        ")\n",
        "\n",
        "# Image Classification Training Docs:\n",
        "# https://apple.github.io/turicreate/docs/api/generated/turicreate.image_classifier.create.html#turicreate.image_classifier.create"
      ],
      "execution_count": 0,
      "outputs": []
    },
    {
      "metadata": {
        "id": "WZ8GkhwCzHgx",
        "colab_type": "text"
      },
      "cell_type": "markdown",
      "source": [
        "## Model Evaluation"
      ]
    },
    {
      "metadata": {
        "id": "O-BAfoPNytYA",
        "colab_type": "code",
        "colab": {}
      },
      "cell_type": "code",
      "source": [
        "# Let's see how the model performs on the hold out tes data\n",
        "predictions = model.predict(test_data)\n",
        "accuracy = tc.evaluation.accuracy(test_data['label'], predictions)\n",
        "print(f\"Image classifer is {accuracy*100} % accuracte on the testing dataset\", flush=True)"
      ],
      "execution_count": 0,
      "outputs": []
    },
    {
      "metadata": {
        "id": "36W7tqNl85wd",
        "colab_type": "text"
      },
      "cell_type": "markdown",
      "source": [
        "## Model Export and Download\n",
        "We convert the model to CoreML format so that it can run on an iOS device. Then we download it locally so it can be delivered to your apps with Skafos."
      ]
    },
    {
      "metadata": {
        "id": "c1G27rFvytYE",
        "colab_type": "code",
        "colab": {}
      },
      "cell_type": "code",
      "source": [
        "# Specify the CoreML model name\n",
        "model_name = 'ImageClassifier'\n",
        "coreml_model_name = model_name + '.mlmodel'\n",
        "\n",
        "# Export the trained model to CoreML format\n",
        "res = model.export_coreml(coreml_model_name)"
      ],
      "execution_count": 0,
      "outputs": []
    },
    {
      "metadata": {
        "id": "f6z9Yfor-sV3",
        "colab_type": "code",
        "colab": {}
      },
      "cell_type": "code",
      "source": [
        "# Download the model you just trained. This may take a few moments and may throw an exception. It should still download.\n",
        "from google.colab import files\n",
        "files.download(coreml_model_name)\n",
        "\n",
        "# If it fails to download, or downloads a corrupt file...\n",
        "# Use the file explorer to download the .mlmodel file manually\n",
        "# --> On the upper left side, expand the window, click the \"Files\" tab, right-click the file and select \"download\""
      ],
      "execution_count": 0,
      "outputs": []
    }
  ]
}