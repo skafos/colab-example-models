{
  "nbformat": 4,
  "nbformat_minor": 0,
  "metadata": {
    "colab": {
      "name": "poison_ivy.ipynb",
      "version": "0.3.2",
      "provenance": [],
      "collapsed_sections": []
    },
    "kernelspec": {
      "name": "python3",
      "display_name": "Python 3"
    },
    "accelerator": "GPU"
  },
  "cells": [
    {
      "metadata": {
        "id": "nsUUoKA6ylfP",
        "colab_type": "text"
      },
      "cell_type": "markdown",
      "source": [
        "# Image Classifier: Poison Ivy\n",
        " Trains a model to classify a plant image as a type of poison ivy (or not).\n",
        "\n",
        "Below we do the following:\n",
        "1. Setup the training environment.\n",
        "2. Load images of different poison ivy plants and look-alikes\n",
        "3. Train an image classifier model.\n",
        "4. Convert the model to CoreML format and download it."
      ]
    },
    {
      "metadata": {
        "id": "Ofv3ZbEvzAie",
        "colab_type": "text"
      },
      "cell_type": "markdown",
      "source": [
        "## Environment Setup\n",
        "Below we ensure `CUDA 10` is installed and then use pip to install `turicreate` and `mxnet-cu100` libraries."
      ]
    },
    {
      "metadata": {
        "id": "w1hvKiczmJ39",
        "colab_type": "code",
        "colab": {}
      },
      "cell_type": "code",
      "source": [
        "# Confirm that you have CUDA 10\n",
        "!nvcc --version"
      ],
      "execution_count": 0,
      "outputs": []
    },
    {
      "metadata": {
        "id": "sSORwn78XSyS",
        "colab_type": "code",
        "colab": {}
      },
      "cell_type": "code",
      "source": [
        "!pip install turicreate\n",
        "# The wrong version of mxnet will be installed\n",
        "!pip uninstall -y mxnet\n",
        "# Install CUDA10-compatible version of mxnet\n",
        "!pip install mxnet-cu100"
      ],
      "execution_count": 0,
      "outputs": []
    },
    {
      "metadata": {
        "id": "zpByBEHXybuq",
        "colab_type": "text"
      },
      "cell_type": "markdown",
      "source": [
        "## Data Preparation and Model Training\n",
        "The training data for this example are images of various plant species (some poisonous, some not), gathered and labeled by hand. One of the limitations of this space is having enough training data. Because our data is limited, if we were to try to make a more accurate model, we would need to collect and label more images for each class.\n",
        "\n",
        "After unzipping and extracting the images, they are loaded into a Turi Create SFrame and labels are created for each image based on the path. The data is randomly split into train and test sets, where 80% of the data is used for training and 20% is used for model evaluation (if you desire). Training this model with a GPU is much faster than CPU time. By default, this runtime environment should be using a Python 3 GPU backend instance. Below, we tell Turicreate to use all available GPUs for processing."
      ]
    },
    {
      "metadata": {
        "id": "2iLBeMNumjHC",
        "colab_type": "code",
        "colab": {}
      },
      "cell_type": "code",
      "source": [
        "# Import libraries and tell Turicreate to use all GPUs available - this may throw a warning\n",
        "import urllib\n",
        "import tarfile\n",
        "import os\n",
        "\n",
        "import coremltools\n",
        "import turicreate as tc\n",
        "tc.config.set_num_gpus(-1)"
      ],
      "execution_count": 0,
      "outputs": []
    },
    {
      "metadata": {
        "id": "o-Ou9nnydRXA",
        "colab_type": "code",
        "colab": {}
      },
      "cell_type": "code",
      "source": [
        "# Specify the data set download url\n",
        "data_url = \"https://s3.amazonaws.com/skafos.example.data/ImageClassifier/poisonPlants.tar.gz\"\n",
        "data_path = \"poisonPlants.tar.gz\"\n",
        "\n",
        "# Pull the compressed data and extract it\n",
        "retrieve = urllib.request.urlretrieve(data_url, data_path)\n",
        "tar = tarfile.open(data_path)\n",
        "tar.extractall()\n",
        "tar.close()"
      ],
      "execution_count": 0,
      "outputs": []
    },
    {
      "metadata": {
        "id": "aXGJ3cetXfDB",
        "colab_type": "code",
        "colab": {}
      },
      "cell_type": "code",
      "source": [
        "# Load images - you can ignore various jpeg decode errors\n",
        "data = tc.image_analysis.load_images('poisonPlants', with_path=True, ignore_failure=True)\n",
        "\n",
        "# From the path-name, create a label column. This labels each image as the appropriate plant\n",
        "data['label'] = data['path'].apply(lambda path: os.path.basename(os.path.dirname(path)))"
      ],
      "execution_count": 0,
      "outputs": []
    },
    {
      "metadata": {
        "id": "Mo5Vh6NYdjLH",
        "colab_type": "code",
        "colab": {}
      },
      "cell_type": "code",
      "source": [
        "# Make a train-test split\n",
        "train_data, test_data = data.random_split(0.8)"
      ],
      "execution_count": 0,
      "outputs": []
    },
    {
      "metadata": {
        "id": "_eip_72XZLTx",
        "colab_type": "code",
        "colab": {}
      },
      "cell_type": "code",
      "source": [
        "# Train an image classification model - consider increasing max_iterations\n",
        "model = tc.image_classifier.create(\n",
        "    dataset=train_data,\n",
        "    target='label',\n",
        "    model='resnet-50',\n",
        "    batch_size=4,\n",
        "    max_iterations=10\n",
        ")\n",
        "\n",
        "# Image Classification Training Docs:\n",
        "# https://apple.github.io/turicreate/docs/api/generated/turicreate.image_classifier.create.html#turicreate.image_classifier.create"
      ],
      "execution_count": 0,
      "outputs": []
    },
    {
      "metadata": {
        "id": "3wcLKFljyffD",
        "colab_type": "text"
      },
      "cell_type": "markdown",
      "source": [
        "## Model Evaluation"
      ]
    },
    {
      "metadata": {
        "id": "wFktkB6mxHkd",
        "colab_type": "code",
        "colab": {}
      },
      "cell_type": "code",
      "source": [
        "predictions = model.predict(test_data)\n",
        "accuracy = tc.evaluation.accuracy(test_data['label'], predictions)\n",
        "print(f\"Image classifier is {accuracy*100} % accurate on the testing dataset\", flush=True)"
      ],
      "execution_count": 0,
      "outputs": []
    },
    {
      "metadata": {
        "id": "HQWm5UiayiZj",
        "colab_type": "text"
      },
      "cell_type": "markdown",
      "source": [
        "## Model Export and Download\n",
        "We convert the model to CoreML format so that it can run on an iOS device. Then we download it locally so it can be delivered to your apps with Skafos."
      ]
    },
    {
      "metadata": {
        "id": "Xgst0CWZdC8R",
        "colab_type": "code",
        "colab": {}
      },
      "cell_type": "code",
      "source": [
        "# Specify the CoreML model name\n",
        "model_name = 'ImageClassifier'\n",
        "coreml_model_name = model_name + '.mlmodel'\n",
        "\n",
        "# Export the trained model to CoreML format\n",
        "res = model.export_coreml(coreml_model_name)"
      ],
      "execution_count": 0,
      "outputs": []
    },
    {
      "metadata": {
        "id": "n_chKCXqdHKB",
        "colab_type": "code",
        "colab": {}
      },
      "cell_type": "code",
      "source": [
        "# Download the model you just trained. This may take a few moments and may throw an exception. It should still download.\n",
        "from google.colab import files\n",
        "files.download(coreml_model_name)"
      ],
      "execution_count": 0,
      "outputs": []
    }
  ]
}